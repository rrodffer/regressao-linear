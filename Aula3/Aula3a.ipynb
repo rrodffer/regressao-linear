{
  "nbformat": 4,
  "nbformat_minor": 0,
  "metadata": {
    "colab": {
      "provenance": []
    },
    "kernelspec": {
      "name": "python3",
      "display_name": "Python 3"
    },
    "language_info": {
      "name": "python"
    }
  },
  "cells": [
    {
      "cell_type": "markdown",
      "source": [
        "# Regressão Linear Múltipla\n",
        "Podemos implementar a regressão linear múltipla seguindo as mesmas etapas da regressão simples. A principal diferença é que o array `x` agora terá duas ou mais colunas."
      ],
      "metadata": {
        "id": "c78za6HkxyNx"
      }
    },
    {
      "cell_type": "markdown",
      "source": [
        "## Passos 1 e 2: Importando pacotes e classes e fornecendo dados\n",
        "Primeiramente, importamos `numpy` e `sklearn.linear_model.LinearRegression` e fornecemos entradas e saídas conhecidas:"
      ],
      "metadata": {
        "id": "gjpUfSllyBKN"
      }
    },
    {
      "cell_type": "code",
      "execution_count": null,
      "metadata": {
        "id": "vnvetxXkxtew"
      },
      "outputs": [],
      "source": [
        "import numpy as np\n",
        "from sklearn.linear_model import LinearRegression\n",
        "\n",
        "X = [[0, 1], [5, 1], [15, 2], [25, 5], [35, 11], [45, 15], [55, 34], [60, 35]]\n",
        "y = [4, 5, 20, 14, 32, 22, 38, 43]\n",
        "X, y = np.array(X), np.array(y)"
      ]
    },
    {
      "cell_type": "code",
      "source": [
        "X"
      ],
      "metadata": {
        "id": "XkiUWH-vxsCn"
      },
      "execution_count": null,
      "outputs": []
    },
    {
      "cell_type": "code",
      "source": [
        "y"
      ],
      "metadata": {
        "id": "nP6hzIOdxtTZ"
      },
      "execution_count": null,
      "outputs": []
    },
    {
      "cell_type": "markdown",
      "source": [
        "Na regressão linear múltipla, `x` é uma matriz bidimensional com pelo menos duas colunas, enquanto `y` geralmente é uma matriz unidimensional. No nosso exemplo de regressão linear múltipla, `x` tem exatamente duas colunas."
      ],
      "metadata": {
        "id": "eCM5jELMyYuN"
      }
    },
    {
      "cell_type": "markdown",
      "source": [
        "## Passo 3: Criando e ajustando o modelo\n",
        "A próxima etapa é criar o modelo de regressão como uma instância de `LinearRegression` e ajustá-lo com `.fit()`. O resultado destes comandos é o modelo variável referente ao objeto do tipo `LinearRegression`. Isso representa o modelo de regressão ajustado aos dados existentes:"
      ],
      "metadata": {
        "id": "kMnva-C7yt2j"
      }
    },
    {
      "cell_type": "code",
      "source": [
        "model = LinearRegression().fit(X, y)"
      ],
      "metadata": {
        "id": "Otwb9jzQzDmw"
      },
      "execution_count": null,
      "outputs": []
    },
    {
      "cell_type": "markdown",
      "source": [
        "## Passo 4: Obtendo os resultados\n",
        "Podemos obter as propriedades do modelo da mesma forma que no caso da regressão linear simples, ou seja:"
      ],
      "metadata": {
        "id": "89zgxZb3zHZv"
      }
    },
    {
      "cell_type": "code",
      "source": [
        "r_sq = model.score(X, y)\n",
        "\n",
        "print(f\"coeficiente de determinacao: {r_sq}\")\n",
        "print(f\"interceptacao: {model.intercept_}\")\n",
        "print(f\"coeficientes: {model.coef_}\")"
      ],
      "metadata": {
        "id": "UKdQIeYVzQlP"
      },
      "execution_count": null,
      "outputs": []
    },
    {
      "cell_type": "markdown",
      "source": [
        "Aqui, obtemos o valor de $R^2$ usando `.score()` e os valores dos estimadores dos coeficientes de regressão com `.intercept_` e `.coef_`. Novamente, `.intercept_` contém o valor de $b_0$, enquanto agora `.coef_` é uma matriz contendo $b_1$ e $b_2$.\n",
        "\n",
        "Neste exemplo, a interceptação é de aproximadamente $5.52$ e este é o valor da resposta prevista quando $x_1=x_2=0$. Um aumento de $x_1$ em $1$ produz um aumento da resposta prevista em $0.45$. Da mesma forma, quando $x_2$ aumenta $1$, a resposta aumenta $0.26$."
      ],
      "metadata": {
        "id": "P5-xZufizjsc"
      }
    },
    {
      "cell_type": "markdown",
      "source": [
        "## Passo 5: Fazendo previsões\n",
        "As previsões também funcionam da mesma maneira que no caso da regressão linear simples:"
      ],
      "metadata": {
        "id": "cRpWgiEm0IDR"
      }
    },
    {
      "cell_type": "code",
      "source": [
        "y_pred = model.predict(X)\n",
        "\n",
        "print(f\"resposta prevista:\\n{y_pred}\")"
      ],
      "metadata": {
        "id": "dunslUrI0MjW"
      },
      "execution_count": null,
      "outputs": []
    },
    {
      "cell_type": "markdown",
      "source": [
        "A resposta prevista é obtida com `.predict()`, que é equivalente ao seguinte:"
      ],
      "metadata": {
        "id": "kZl1-sJy0YME"
      }
    },
    {
      "cell_type": "code",
      "source": [
        "y_pred = model.intercept_ + np.sum(model.coef_ * X, axis=1)\n",
        "print(f\"resposta prevista:\\n{y_pred}\")"
      ],
      "metadata": {
        "id": "pH_1mrb40bH3"
      },
      "execution_count": null,
      "outputs": []
    },
    {
      "cell_type": "markdown",
      "source": [
        "Podemos, portanto, prever os valores de saída multiplicando cada coluna da entrada pelo peso apropriado, somando os resultados e adicionando a interceptação à soma.\n",
        "\n",
        "Finalmente, também é possível aplicar este modelo a novos dados:"
      ],
      "metadata": {
        "id": "Igrd0tym0ayP"
      }
    },
    {
      "cell_type": "code",
      "source": [
        "X_new = np.arange(10).reshape((-1, 2))\n",
        "X_new"
      ],
      "metadata": {
        "id": "C4qMmwZL08VY"
      },
      "execution_count": null,
      "outputs": []
    },
    {
      "cell_type": "code",
      "source": [
        "y_new = model.predict(X_new)\n",
        "y_new"
      ],
      "metadata": {
        "id": "eE9bzkkoAMBn"
      },
      "execution_count": null,
      "outputs": []
    },
    {
      "cell_type": "markdown",
      "source": [
        "Essa é a previsão usando um modelo de regressão linear.\n",
        "\n",
        "Note que que a regressão produziu um coeficiente de determinação relativamente alto. A princípio, poderíamos pensar que isso é um ótimo resultado! No entanto, em situações do mundo real, ter um $R^2$ próximo de um também pode ser um sinal de *overfitting*.\n",
        "\n",
        "Na prática, isso significa que o modelo aprendeu muito bem os dados existentes, mas não é capaz de fazer boas generalizações. Assim, para verificar o desempenho de um modelo, quando lidamos com dados reais, devemos testá-lo com novos dados. Para isso, algumas observações não serão usadas usadas para ajustar ou treinar o modelo. Veremos isos nas próximas lições. 😉"
      ],
      "metadata": {
        "id": "ZjMbCPbh1O2B"
      }
    }
  ]
}