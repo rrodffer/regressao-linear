{
  "cells": [
    {
      "cell_type": "markdown",
      "metadata": {
        "id": "ZGRopm649JoT"
      },
      "source": [
        "# Regressão Logística\n",
        "\n",
        "## Exemplo com dataset maior\n",
        "No exemplo a seguir, vamos considerar o conjunto de dados denominado **Pima Indians Diabetes Database**. Esse dataset é frequentemente usado em tutoriais de aprendizado de máquina e contém dados sobre diagnósticos de diabetes em mulheres Pima Indianas.\n",
        "\n",
        "Fonte: [UCI Machine Learning Repository - Pima Indians Diabetes Database](https://archive.ics.uci.edu/ml/datasets/Pima+Indians+Diabetes)\n",
        "\n",
        "Inicialmente, vamos carregar os pacotes e, em seguida, fazer a leitura dos dados.\n",
        "\n",
        "> **Observação:** Nesse exemplo, vamos \"puxar\" os dados de uma URL; poderíamos, perfeitamente, ter baixado os dados previsamente e carregado-os no Colab."
      ]
    },
    {
      "cell_type": "code",
      "execution_count": 1,
      "metadata": {
        "id": "pStz_KGxV54_"
      },
      "outputs": [],
      "source": [
        "import pandas as pd\n",
        "from sklearn.model_selection import train_test_split\n",
        "from sklearn.linear_model import LogisticRegression\n",
        "from sklearn.metrics import accuracy_score, confusion_matrix, classification_report\n",
        "import seaborn as sn"
      ]
    },
    {
      "cell_type": "code",
      "execution_count": 2,
      "metadata": {
        "id": "RyDTNPgwV8RI"
      },
      "outputs": [
        {
          "name": "stdout",
          "output_type": "stream",
          "text": [
            "   Pregnancies  Glucose  BloodPressure  SkinThickness  Insulin   BMI  \\\n",
            "0            6      148             72             35        0  33.6   \n",
            "1            1       85             66             29        0  26.6   \n",
            "2            8      183             64              0        0  23.3   \n",
            "3            1       89             66             23       94  28.1   \n",
            "4            0      137             40             35      168  43.1   \n",
            "\n",
            "   DiabetesPedigreeFunction  Age  Outcome  \n",
            "0                     0.627   50        1  \n",
            "1                     0.351   31        0  \n",
            "2                     0.672   32        1  \n",
            "3                     0.167   21        0  \n",
            "4                     2.288   33        1  \n"
          ]
        }
      ],
      "source": [
        "# Carregar os dados\n",
        "url = \"https://raw.githubusercontent.com/jbrownlee/Datasets/master/pima-indians-diabetes.data.csv\"\n",
        "column_names = ['Pregnancies', 'Glucose', 'BloodPressure', 'SkinThickness', 'Insulin', 'BMI', 'DiabetesPedigreeFunction', 'Age', 'Outcome']\n",
        "data = pd.read_csv(url, names=column_names)\n",
        "\n",
        "# Visualizar os dados\n",
        "print(data.head())"
      ]
    },
    {
      "cell_type": "markdown",
      "metadata": {
        "id": "VeAowaqfwPLU"
      },
      "source": [
        "Vamos dividir o conjunto de dados em dois conjuntos: as variáveis dependentes (matriz $X$) e as variávies dependentes (vetor $y$). Aqui, estamos considerando que a variável *Outcome* (\"Resultado\") é dependente das demais. De fato, queremos saber se, dadas todas as características listadas na base, a pessoa é ou não portadora de diabetes.\n",
        "\n",
        "Em seguida, também vamos organizar os dados nos conjuntos de treino e de teste. Novamente, estamos utilizando a seguinte relação: $80\\%$ do dataset para treino e $20\\%$ para teste."
      ]
    },
    {
      "cell_type": "code",
      "execution_count": 3,
      "metadata": {
        "id": "dTYslVSiWAPC"
      },
      "outputs": [],
      "source": [
        "# Seleção de variáveis independentes e dependentes\n",
        "# Essa função remove a coluna Outcome do dataset e atribui as demais à variável X\n",
        "X = data.drop('Outcome', axis=1)\n",
        "\n",
        "# Essa função atribui a coluna Outcome à variável y\n",
        "y = data['Outcome']\n",
        "\n",
        "# Divisão dos dados\n",
        "X_train, X_test, y_train, y_test = train_test_split(X, y, test_size=0.2, random_state=42)"
      ]
    },
    {
      "cell_type": "markdown",
      "metadata": {
        "id": "GBzKyebGxhOK"
      },
      "source": [
        "Vamos, nesse exemplo, comparar os dois tipos de regularização: a L2 (*ridge*) e a L1 (*lasso*). Inicialmente, treinaremos o modelo considerando o atributo `penalty=l2` e, em seguida, `penalty=l1`."
      ]
    },
    {
      "cell_type": "code",
      "execution_count": 4,
      "metadata": {
        "id": "CQkrCFsLWBeh"
      },
      "outputs": [
        {
          "name": "stdout",
          "output_type": "stream",
          "text": [
            "Acurácia com penalidade L2: 0.7467532467532467\n"
          ]
        }
      ],
      "source": [
        "# Inicialização e treinamento do modelo com penalidade L2\n",
        "model_l2 = LogisticRegression(penalty='l2', max_iter=200)\n",
        "model_l2.fit(X_train, y_train)\n",
        "y_pred_l2 = model_l2.predict(X_test)\n",
        "accuracy_l2 = accuracy_score(y_test, y_pred_l2)\n",
        "print(f'Acurácia com penalidade L2: {accuracy_l2}')"
      ]
    },
    {
      "cell_type": "code",
      "execution_count": 5,
      "metadata": {
        "id": "6cvICMTkWFhL"
      },
      "outputs": [
        {
          "name": "stdout",
          "output_type": "stream",
          "text": [
            "Acurácia com penalidade L1: 0.7532467532467533\n"
          ]
        }
      ],
      "source": [
        "# Inicialização e treinamento do modelo com penalidade L1\n",
        "model_l1 = LogisticRegression(penalty='l1', solver='liblinear', max_iter=200)\n",
        "model_l1.fit(X_train, y_train)\n",
        "y_pred_l1 = model_l1.predict(X_test)\n",
        "accuracy_l1 = accuracy_score(y_test, y_pred_l1)\n",
        "print(f'Acurácia com penalidade L1: {accuracy_l1}')"
      ]
    },
    {
      "cell_type": "markdown",
      "metadata": {
        "id": "rAFHV4aAyBEu"
      },
      "source": [
        "Note que houve uma pequena variação nos resultados. Vamos comparar os respectivos coeficientes e, finalmente, construir a matriz de confusão."
      ]
    },
    {
      "cell_type": "code",
      "execution_count": 6,
      "metadata": {
        "id": "MsNPh8k6WU5j"
      },
      "outputs": [
        {
          "name": "stdout",
          "output_type": "stream",
          "text": [
            "                   Variável  Coeficiente L2  Coeficiente L1\n",
            "0               Pregnancies        0.064372        0.063795\n",
            "1                   Glucose        0.034094        0.032276\n",
            "2             BloodPressure       -0.013879       -0.014636\n",
            "3             SkinThickness        0.003291        0.003029\n",
            "4                   Insulin       -0.001803       -0.001618\n",
            "5                       BMI        0.102608        0.094059\n",
            "6  DiabetesPedigreeFunction        0.626886        0.547418\n",
            "7                       Age        0.037097        0.034445\n"
          ]
        }
      ],
      "source": [
        "# Comparação dos coeficientes\n",
        "coefficients_l2 = model_l2.coef_[0]\n",
        "coefficients_l1 = model_l1.coef_[0]\n",
        "feature_names = X.columns\n",
        "\n",
        "coef_df = pd.DataFrame({\n",
        "    'Variável': feature_names,\n",
        "    'Coeficiente L2': coefficients_l2,\n",
        "    'Coeficiente L1': coefficients_l1\n",
        "})\n",
        "\n",
        "print(coef_df)"
      ]
    },
    {
      "cell_type": "code",
      "execution_count": 7,
      "metadata": {
        "id": "11aHAv9T_VGs"
      },
      "outputs": [
        {
          "data": {
            "text/plain": [
              "<Axes: xlabel='Predito', ylabel='Esperado'>"
            ]
          },
          "execution_count": 7,
          "metadata": {},
          "output_type": "execute_result"
        },
        {
          "data": {
            "image/png": "[encoded data removed]",
            "text/plain": [
              "<Figure size 640x480 with 2 Axes>"
            ]
          },
          "metadata": {},
          "output_type": "display_data"
        }
      ],
      "source": [
        "confusion_matrix_l2 = pd.crosstab(y_test, y_pred_l2, rownames=['Esperado'], colnames=['Predito'])\n",
        "sn.heatmap(confusion_matrix_l2, annot=True)"
      ]
    },
    {
      "cell_type": "code",
      "execution_count": 8,
      "metadata": {
        "id": "gmBtCry6y4Uo"
      },
      "outputs": [
        {
          "data": {
            "text/plain": [
              "<Axes: xlabel='Predito', ylabel='Esperado'>"
            ]
          },
          "execution_count": 8,
          "metadata": {},
          "output_type": "execute_result"
        },
        {
          "data": {
            "image/png": "[encoded data removed]",
            "text/plain": [
              "<Figure size 640x480 with 2 Axes>"
            ]
          },
          "metadata": {},
          "output_type": "display_data"
        }
      ],
      "source": [
        "confusion_matrix_l1 = pd.crosstab(y_test, y_pred_l1, rownames=['Esperado'], colnames=['Predito'])\n",
        "sn.heatmap(confusion_matrix_l1, annot=True)"
      ]
    },
    {
      "cell_type": "markdown",
      "metadata": {
        "id": "1zpDcLzt90ab"
      },
      "source": [
        "# Exercício para Entrega\n",
        "\n",
        "Escolha, ao menos, duas das bases a seguir. Em seguida, aplique os dois principais métodos que vimos nesta disciplina, ou seja, a Regressão Linear e a Regressão Logísitca.\n",
        "\n",
        "Pode utilizar outras base de dados, caso deseje!\n",
        "\n",
        "## Heart Disease Dataset\n",
        "Este conjunto de dados contém informações sobre pacientes e é usado para prever a presença de doença cardíaca.\n",
        "\n",
        "Fonte: [Heart Disease UCI](https://archive.ics.uci.edu/dataset/45/heart+disease)\n",
        "\n",
        "## Breast Cancer Wisconsin (Diagnostic) Data Set\n",
        "Este conjunto de dados contém características dos núcleos celulares presentes em imagens digitalizadas de aspirados de agulha fina de seios e é usado para diagnosticar o câncer de mama.\n",
        "\n",
        "Fonte: [Breast Cancer Wisconsin (Diagnostic) Data Set](https://archive.ics.uci.edu/ml/datasets/Breast+Cancer+Wisconsin+(Diagnostic))\n",
        "\n",
        "## Bank Marketing Dataset\n",
        "Este conjunto de dados é usado para prever se um cliente vai subscrever um depósito dentro do prazo.\n",
        "\n",
        "Fonte: [Bank Marketing Dataset](https://archive.ics.uci.edu/ml/datasets/Bank+Marketing)\n",
        "\n"
      ]
    },
    {
      "cell_type": "markdown",
      "metadata": {
        "id": "bYIAJjh51A_C"
      },
      "source": [
        "Bom trabalho! 🙂"
      ]
    }
  ],
  "metadata": {
    "colab": {
      "provenance": []
    },
    "kernelspec": {
      "display_name": "Python 3",
      "name": "python3"
    },
    "language_info": {
      "codemirror_mode": {
        "name": "ipython",
        "version": 3
      },
      "file_extension": ".py",
      "mimetype": "text/x-python",
      "name": "python",
      "nbconvert_exporter": "python",
      "pygments_lexer": "ipython3",
      "version": "3.10.12"
    }
  },
  "nbformat": 4,
  "nbformat_minor": 0
}
